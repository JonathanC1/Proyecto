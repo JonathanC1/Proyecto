{
 "cells": [
  {
   "cell_type": "code",
   "execution_count": 126,
   "id": "c04d3329",
   "metadata": {},
   "outputs": [],
   "source": [
    "import pandas as pd\n",
    "import numpy as np\n",
    "from sklearn.metrics import classification_report, confusion_matrix\n",
    "from keras.models import Model\n",
    "from sklearn.model_selection import train_test_split\n",
    "from sklearn.preprocessing import MinMaxScaler\n",
    "from numpy import array\n",
    "from keras.models import Sequential\n",
    "from keras.layers import Dense, Dropout, ConvLSTM2D, Flatten, Conv2D, Input ,LSTM\n",
    "from keras.layers import TimeDistributed\n",
    "from keras.layers.convolutional import Conv1D\n",
    "from keras.layers.convolutional import MaxPooling1D\n",
    "from keras.optimizers import Adam"
   ]
  },
  {
   "cell_type": "code",
   "execution_count": 106,
   "id": "642a7a3f",
   "metadata": {},
   "outputs": [],
   "source": [
    "datapath = 'https://raw.githubusercontent.com/JonathanC1/Datasets/master/TorNonTor/SelectedFeatures-10s-TOR-NonTOR.csv'\n",
    "dataframe = pd.read_csv(datapath,low_memory=False)"
   ]
  },
  {
   "cell_type": "code",
   "execution_count": 107,
   "id": "756a8795",
   "metadata": {},
   "outputs": [],
   "source": [
    "def dfNormalize(df):\n",
    "    for feature_name in df.columns:\n",
    "        df.loc[:,feature_name]= pd.to_numeric(df.loc[:,feature_name], errors='coerce').fillna(0)\n",
    "        max_value = df[feature_name].max()\n",
    "        min_value = df[feature_name].min()   \n",
    "        if (max_value - min_value) > 0:\n",
    "            df.loc[:,feature_name] = (df.loc[:,feature_name] - min_value) / (max_value - min_value)\n",
    "        else:\n",
    "            df.loc[:,feature_name] = (df.loc[:,feature_name]- min_value)    \n",
    "    return df"
   ]
  },
  {
   "cell_type": "code",
   "execution_count": 108,
   "id": "ca585b57",
   "metadata": {},
   "outputs": [
    {
     "name": "stdout",
     "output_type": "stream",
     "text": [
      "(16088, 29)\n",
      "        Source Port   Destination Port   Protocol   Flow Duration  \\\n",
      "count  16088.000000       16088.000000    16088.0    1.608800e+04   \n",
      "mean   36296.304388       11777.729426        6.0    4.422426e+06   \n",
      "std    21217.827170       19907.298714        0.0    4.650899e+06   \n",
      "min       21.000000          21.000000        6.0    1.000000e+00   \n",
      "25%    33224.000000         443.000000        6.0    3.710925e+04   \n",
      "50%    41282.000000         443.000000        6.0    7.780915e+05   \n",
      "75%    54420.000000        9001.000000        6.0    9.965477e+06   \n",
      "max    65087.000000       65514.000000        6.0    1.000000e+07   \n",
      "\n",
      "        Flow IAT Max   Flow IAT Min   Fwd IAT Max   Fwd IAT Min   Bwd IAT Max  \\\n",
      "count   1.608800e+04   1.608800e+04  1.608800e+04  1.608800e+04  1.608800e+04   \n",
      "mean    8.139237e+05   6.711377e+04  7.562887e+05  8.203885e+04  5.994034e+05   \n",
      "std     1.775624e+06   4.228532e+05  1.745859e+06  6.422426e+05  1.525304e+06   \n",
      "min     1.000000e+00  -2.255000e+03  0.000000e+00 -3.160000e+02  0.000000e+00   \n",
      "25%     3.706550e+04   7.000000e+00  0.000000e+00  0.000000e+00  0.000000e+00   \n",
      "50%     1.054225e+05   5.200000e+01  6.991700e+04  0.000000e+00  7.000000e+00   \n",
      "75%     3.832422e+05   3.359300e+04  3.658805e+05  5.800000e+01  2.400830e+05   \n",
      "max     9.996903e+06   9.904104e+06  9.997140e+06  9.997140e+06  9.996903e+06   \n",
      "\n",
      "        Bwd IAT Min   Active Mean   Active Std    Active Max    Active Min  \\\n",
      "count  1.608800e+04  1.608800e+04      16088.0  1.608800e+04  1.608800e+04   \n",
      "mean   5.767559e+04  2.648196e+04          0.0  2.648196e+04  2.648196e+04   \n",
      "std    5.811799e+05  2.404183e+05          0.0  2.404183e+05  2.404183e+05   \n",
      "min   -3.270000e+02  0.000000e+00          0.0  0.000000e+00  0.000000e+00   \n",
      "25%    0.000000e+00  0.000000e+00          0.0  0.000000e+00  0.000000e+00   \n",
      "50%    0.000000e+00  0.000000e+00          0.0  0.000000e+00  0.000000e+00   \n",
      "75%    2.600000e+01  0.000000e+00          0.0  0.000000e+00  0.000000e+00   \n",
      "max    9.996903e+06  4.823748e+06          0.0  4.823748e+06  4.823748e+06   \n",
      "\n",
      "          Idle Mean   Idle Std      Idle Max      Idle Min  \n",
      "count  1.608800e+04    16088.0  1.608800e+04  1.608800e+04  \n",
      "mean   2.576211e+05        0.0  2.576211e+05  2.576211e+05  \n",
      "std    1.365577e+06        0.0  1.365577e+06  1.365577e+06  \n",
      "min    0.000000e+00        0.0  0.000000e+00  0.000000e+00  \n",
      "25%    0.000000e+00        0.0  0.000000e+00  0.000000e+00  \n",
      "50%    0.000000e+00        0.0  0.000000e+00  0.000000e+00  \n",
      "75%    0.000000e+00        0.0  0.000000e+00  0.000000e+00  \n",
      "max    9.996903e+06        0.0  9.996903e+06  9.996903e+06  \n",
      "['Source IP', ' Source Port', ' Destination IP', ' Destination Port', ' Protocol', ' Flow Duration', ' Flow Bytes/s', ' Flow Packets/s', ' Flow IAT Mean', ' Flow IAT Std', ' Flow IAT Max', ' Flow IAT Min', 'Fwd IAT Mean', ' Fwd IAT Std', ' Fwd IAT Max', ' Fwd IAT Min', 'Bwd IAT Mean', ' Bwd IAT Std', ' Bwd IAT Max', ' Bwd IAT Min', 'Active Mean', ' Active Std', ' Active Max', ' Active Min', 'Idle Mean', ' Idle Std', ' Idle Max', ' Idle Min', 'label']\n"
     ]
    }
   ],
   "source": [
    "print(dataframe.shape)\n",
    "dataframe = dataframe.reindex(np.random.permutation(dataframe.index)).copy()\n",
    "print(dataframe.describe())\n",
    "print(list(dataframe))"
   ]
  },
  {
   "cell_type": "code",
   "execution_count": 109,
   "id": "44e8d54f",
   "metadata": {},
   "outputs": [
    {
     "name": "stdout",
     "output_type": "stream",
     "text": [
      "        Protocol   Flow Duration   Flow Bytes/s   Flow Packets/s  \\\n",
      "count    16088.0    16088.000000   16088.000000     16088.000000   \n",
      "mean         0.0        0.442243       0.000295         0.000620   \n",
      "std          0.0        0.465090       0.012537         0.017354   \n",
      "min          0.0        0.000000       0.000000         0.000000   \n",
      "25%          0.0        0.003711       0.000000         0.000000   \n",
      "50%          0.0        0.077809       0.000000         0.000000   \n",
      "75%          0.0        0.996548       0.000000         0.000000   \n",
      "max          0.0        1.000000       1.000000         1.000000   \n",
      "\n",
      "        Flow IAT Mean   Flow IAT Std   Flow IAT Max   Flow IAT Min  \\\n",
      "count    16088.000000        16088.0   16088.000000   16088.000000   \n",
      "mean         0.014998            0.0       0.081417       0.007002   \n",
      "std          0.062858            0.0       0.177617       0.042685   \n",
      "min          0.000000            0.0       0.000000       0.000000   \n",
      "25%          0.000000            0.0       0.003708       0.000228   \n",
      "50%          0.000013            0.0       0.010545       0.000233   \n",
      "75%          0.003968            0.0       0.038336       0.003619   \n",
      "max          1.000000            0.0       1.000000       1.000000   \n",
      "\n",
      "       Fwd IAT Mean   Fwd IAT Std  ...   Bwd IAT Max   Bwd IAT Min  \\\n",
      "count  16088.000000       16088.0  ...  1.608800e+04  16088.000000   \n",
      "mean       0.017046           0.0  ...  5.995891e-02      0.005802   \n",
      "std        0.079810           0.0  ...  1.525777e-01      0.058134   \n",
      "min        0.000000           0.0  ...  0.000000e+00      0.000000   \n",
      "25%        0.000000           0.0  ...  0.000000e+00      0.000033   \n",
      "50%        0.000000           0.0  ...  7.002169e-07      0.000033   \n",
      "75%        0.000000           0.0  ...  2.401574e-02      0.000035   \n",
      "max        1.000000           0.0  ...  1.000000e+00      1.000000   \n",
      "\n",
      "        Active Mean   Active Std    Active Max    Active Min    Idle Mean  \\\n",
      "count  16088.000000      16088.0  16088.000000  16088.000000  16088.00000   \n",
      "mean       0.005490          0.0      0.005490      0.005490      0.02577   \n",
      "std        0.049841          0.0      0.049841      0.049841      0.13660   \n",
      "min        0.000000          0.0      0.000000      0.000000      0.00000   \n",
      "25%        0.000000          0.0      0.000000      0.000000      0.00000   \n",
      "50%        0.000000          0.0      0.000000      0.000000      0.00000   \n",
      "75%        0.000000          0.0      0.000000      0.000000      0.00000   \n",
      "max        1.000000          0.0      1.000000      1.000000      1.00000   \n",
      "\n",
      "        Idle Std     Idle Max     Idle Min  \n",
      "count    16088.0  16088.00000  16088.00000  \n",
      "mean         0.0      0.02577      0.02577  \n",
      "std          0.0      0.13660      0.13660  \n",
      "min          0.0      0.00000      0.00000  \n",
      "25%          0.0      0.00000      0.00000  \n",
      "50%          0.0      0.00000      0.00000  \n",
      "75%          0.0      0.00000      0.00000  \n",
      "max          0.0      1.00000      1.00000  \n",
      "\n",
      "[8 rows x 24 columns]\n"
     ]
    }
   ],
   "source": [
    "keys = dataframe.keys()\n",
    "data_to_process = dataframe[keys[4:len(keys) - 1]].copy()\n",
    "x_normalised = dfNormalize(data_to_process)\n",
    "print(x_normalised.describe())"
   ]
  },
  {
   "cell_type": "code",
   "execution_count": 110,
   "id": "c7508f49",
   "metadata": {},
   "outputs": [],
   "source": [
    "change_labels = lambda x: 1 if x == 'nonTOR' else 0\n",
    "y_normalised = dataframe['label'].apply(change_labels)\n",
    "\n",
    "X_train, X_test, y_train, y_test = train_test_split(x_normalised, y_normalised, test_size = 0.20)"
   ]
  },
  {
   "cell_type": "code",
   "execution_count": 111,
   "id": "00578aa5",
   "metadata": {},
   "outputs": [
    {
     "name": "stderr",
     "output_type": "stream",
     "text": [
      "C:\\Users\\ELEN\\anaconda3\\lib\\site-packages\\keras\\optimizers\\optimizer_v2\\adam.py:117: UserWarning: The `lr` argument is deprecated, use `learning_rate` instead.\n",
      "  super().__init__(name, **kwargs)\n"
     ]
    }
   ],
   "source": [
    "#definir el modelo\n",
    "modelo = Sequential()\n",
    "modelo.add(Conv1D(filters=64, kernel_size=3, activation='relu', input_shape=(X_train.shape[1], 1)))\n",
    "modelo.add(MaxPooling1D(pool_size=2))\n",
    "modelo.add(LSTM(32))\n",
    "modelo.add(Dense(1, activation='sigmoid'))\n",
    "modelo.compile(optimizer=Adam(lr=0.001), loss='binary_crossentropy', metrics=['accuracy'])"
   ]
  },
  {
   "cell_type": "code",
   "execution_count": 120,
   "id": "4ecc6137",
   "metadata": {},
   "outputs": [
    {
     "name": "stdout",
     "output_type": "stream",
     "text": [
      "Epoch 1/20\n",
      "403/403 [==============================] - 3s 8ms/step - loss: 0.0436 - accuracy: 0.9845 - val_loss: 0.0466 - val_accuracy: 0.9838\n",
      "Epoch 2/20\n",
      "403/403 [==============================] - 3s 7ms/step - loss: 0.0439 - accuracy: 0.9843 - val_loss: 0.0470 - val_accuracy: 0.9838\n",
      "Epoch 3/20\n",
      "403/403 [==============================] - 3s 7ms/step - loss: 0.0424 - accuracy: 0.9845 - val_loss: 0.0450 - val_accuracy: 0.9842\n",
      "Epoch 4/20\n",
      "403/403 [==============================] - 3s 7ms/step - loss: 0.0416 - accuracy: 0.9847 - val_loss: 0.0462 - val_accuracy: 0.9845\n",
      "Epoch 5/20\n",
      "403/403 [==============================] - 3s 7ms/step - loss: 0.0435 - accuracy: 0.9838 - val_loss: 0.0447 - val_accuracy: 0.9851\n",
      "Epoch 6/20\n",
      "403/403 [==============================] - 3s 7ms/step - loss: 0.0416 - accuracy: 0.9848 - val_loss: 0.0460 - val_accuracy: 0.9845\n",
      "Epoch 7/20\n",
      "403/403 [==============================] - 3s 7ms/step - loss: 0.0418 - accuracy: 0.9845 - val_loss: 0.0467 - val_accuracy: 0.9851\n",
      "Epoch 8/20\n",
      "403/403 [==============================] - 3s 7ms/step - loss: 0.0418 - accuracy: 0.9844 - val_loss: 0.0505 - val_accuracy: 0.9832\n",
      "Epoch 9/20\n",
      "403/403 [==============================] - 3s 7ms/step - loss: 0.0422 - accuracy: 0.9841 - val_loss: 0.0478 - val_accuracy: 0.9845\n",
      "Epoch 10/20\n",
      "403/403 [==============================] - 3s 7ms/step - loss: 0.0419 - accuracy: 0.9842 - val_loss: 0.0450 - val_accuracy: 0.9854\n",
      "Epoch 11/20\n",
      "403/403 [==============================] - 3s 7ms/step - loss: 0.0418 - accuracy: 0.9848 - val_loss: 0.0446 - val_accuracy: 0.9848\n",
      "Epoch 12/20\n",
      "403/403 [==============================] - 3s 7ms/step - loss: 0.0425 - accuracy: 0.9846 - val_loss: 0.0437 - val_accuracy: 0.9848\n",
      "Epoch 13/20\n",
      "403/403 [==============================] - 3s 8ms/step - loss: 0.0409 - accuracy: 0.9851 - val_loss: 0.0476 - val_accuracy: 0.9838\n",
      "Epoch 14/20\n",
      "403/403 [==============================] - 3s 7ms/step - loss: 0.0424 - accuracy: 0.9849 - val_loss: 0.0453 - val_accuracy: 0.9848\n",
      "Epoch 15/20\n",
      "403/403 [==============================] - 3s 7ms/step - loss: 0.0409 - accuracy: 0.9850 - val_loss: 0.0443 - val_accuracy: 0.9848\n",
      "Epoch 16/20\n",
      "403/403 [==============================] - 3s 7ms/step - loss: 0.0415 - accuracy: 0.9849 - val_loss: 0.0447 - val_accuracy: 0.9854\n",
      "Epoch 17/20\n",
      "403/403 [==============================] - 3s 7ms/step - loss: 0.0430 - accuracy: 0.9842 - val_loss: 0.0462 - val_accuracy: 0.9848\n",
      "Epoch 18/20\n",
      "403/403 [==============================] - 3s 7ms/step - loss: 0.0416 - accuracy: 0.9848 - val_loss: 0.0490 - val_accuracy: 0.9845\n",
      "Epoch 19/20\n",
      "403/403 [==============================] - 3s 7ms/step - loss: 0.0420 - accuracy: 0.9845 - val_loss: 0.0453 - val_accuracy: 0.9848\n",
      "Epoch 20/20\n",
      "403/403 [==============================] - 3s 7ms/step - loss: 0.0415 - accuracy: 0.9848 - val_loss: 0.0441 - val_accuracy: 0.9854\n"
     ]
    },
    {
     "data": {
      "text/plain": [
       "<keras.callbacks.History at 0x1ef6ac84970>"
      ]
     },
     "execution_count": 120,
     "metadata": {},
     "output_type": "execute_result"
    }
   ],
   "source": [
    "# Fit the model\n",
    "modelo.fit(np.expand_dims(X_train.values, axis=2), y_train.values, batch_size=32, epochs=20, validation_data=(np.expand_dims(X_test.values, axis=2), y_test.values))"
   ]
  },
  {
   "cell_type": "code",
   "execution_count": 132,
   "id": "3b01528c",
   "metadata": {},
   "outputs": [
    {
     "name": "stdout",
     "output_type": "stream",
     "text": [
      "Test accuracy: 0.9853946566581726\n"
     ]
    }
   ],
   "source": [
    "# Evaluate the model\n",
    "score = modelo.evaluate(X_test, y_test, verbose=0)\n",
    "#print('Test loss:', score[0])\n",
    "print('Test accuracy:', score[1])"
   ]
  }
 ],
 "metadata": {
  "kernelspec": {
   "display_name": "Python 3 (ipykernel)",
   "language": "python",
   "name": "python3"
  },
  "language_info": {
   "codemirror_mode": {
    "name": "ipython",
    "version": 3
   },
   "file_extension": ".py",
   "mimetype": "text/x-python",
   "name": "python",
   "nbconvert_exporter": "python",
   "pygments_lexer": "ipython3",
   "version": "3.9.13"
  }
 },
 "nbformat": 4,
 "nbformat_minor": 5
}
