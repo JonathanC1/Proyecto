{
 "cells": [
  {
   "cell_type": "code",
   "execution_count": 201,
   "id": "c548d8d7",
   "metadata": {},
   "outputs": [],
   "source": [
    "import pandas as pd\n",
    "import numpy as np\n",
    "from sklearn.model_selection import train_test_split\n",
    "from sklearn.preprocessing import MinMaxScaler\n",
    "from keras.models import Sequential\n",
    "from keras.layers import Dense, LSTM, Conv1D, MaxPooling1D, Flatten, ConvLSTM2D, Dropout"
   ]
  },
  {
   "cell_type": "code",
   "execution_count": 202,
   "id": "1d1c1f81",
   "metadata": {},
   "outputs": [],
   "source": [
    "datapath = 'https://raw.githubusercontent.com/JonathanC1/Datasets/master/TorNonTor/SelectedFeatures-10s-TOR-NonTOR.csv'\n",
    "dataframe = pd.read_csv(datapath,low_memory=False)"
   ]
  },
  {
   "cell_type": "code",
   "execution_count": 203,
   "id": "32e46e61",
   "metadata": {},
   "outputs": [],
   "source": [
    "def dfNormalize(df):\n",
    "    for feature_name in df.columns:\n",
    "        df.loc[:,feature_name]= pd.to_numeric(df.loc[:,feature_name], errors='coerce').fillna(0)\n",
    "        max_value = df[feature_name].max()\n",
    "        min_value = df[feature_name].min()   \n",
    "        if (max_value - min_value) > 0:\n",
    "            df.loc[:,feature_name] = (df.loc[:,feature_name] - min_value) / (max_value - min_value)\n",
    "        else:\n",
    "            df.loc[:,feature_name] = (df.loc[:,feature_name]- min_value)    \n",
    "    return df"
   ]
  },
  {
   "cell_type": "code",
   "execution_count": 204,
   "id": "72e32cdd",
   "metadata": {},
   "outputs": [
    {
     "name": "stdout",
     "output_type": "stream",
     "text": [
      "(16088, 29)\n",
      "        Source Port   Destination Port   Protocol   Flow Duration  \\\n",
      "count  16088.000000       16088.000000    16088.0    1.608800e+04   \n",
      "mean   36296.304388       11777.729426        6.0    4.422426e+06   \n",
      "std    21217.827170       19907.298714        0.0    4.650899e+06   \n",
      "min       21.000000          21.000000        6.0    1.000000e+00   \n",
      "25%    33224.000000         443.000000        6.0    3.710925e+04   \n",
      "50%    41282.000000         443.000000        6.0    7.780915e+05   \n",
      "75%    54420.000000        9001.000000        6.0    9.965477e+06   \n",
      "max    65087.000000       65514.000000        6.0    1.000000e+07   \n",
      "\n",
      "        Flow IAT Max   Flow IAT Min   Fwd IAT Max   Fwd IAT Min   Bwd IAT Max  \\\n",
      "count   1.608800e+04   1.608800e+04  1.608800e+04  1.608800e+04  1.608800e+04   \n",
      "mean    8.139237e+05   6.711377e+04  7.562887e+05  8.203885e+04  5.994034e+05   \n",
      "std     1.775624e+06   4.228532e+05  1.745859e+06  6.422426e+05  1.525304e+06   \n",
      "min     1.000000e+00  -2.255000e+03  0.000000e+00 -3.160000e+02  0.000000e+00   \n",
      "25%     3.706550e+04   7.000000e+00  0.000000e+00  0.000000e+00  0.000000e+00   \n",
      "50%     1.054225e+05   5.200000e+01  6.991700e+04  0.000000e+00  7.000000e+00   \n",
      "75%     3.832422e+05   3.359300e+04  3.658805e+05  5.800000e+01  2.400830e+05   \n",
      "max     9.996903e+06   9.904104e+06  9.997140e+06  9.997140e+06  9.996903e+06   \n",
      "\n",
      "        Bwd IAT Min   Active Mean   Active Std    Active Max    Active Min  \\\n",
      "count  1.608800e+04  1.608800e+04      16088.0  1.608800e+04  1.608800e+04   \n",
      "mean   5.767559e+04  2.648196e+04          0.0  2.648196e+04  2.648196e+04   \n",
      "std    5.811799e+05  2.404183e+05          0.0  2.404183e+05  2.404183e+05   \n",
      "min   -3.270000e+02  0.000000e+00          0.0  0.000000e+00  0.000000e+00   \n",
      "25%    0.000000e+00  0.000000e+00          0.0  0.000000e+00  0.000000e+00   \n",
      "50%    0.000000e+00  0.000000e+00          0.0  0.000000e+00  0.000000e+00   \n",
      "75%    2.600000e+01  0.000000e+00          0.0  0.000000e+00  0.000000e+00   \n",
      "max    9.996903e+06  4.823748e+06          0.0  4.823748e+06  4.823748e+06   \n",
      "\n",
      "          Idle Mean   Idle Std      Idle Max      Idle Min  \n",
      "count  1.608800e+04    16088.0  1.608800e+04  1.608800e+04  \n",
      "mean   2.576211e+05        0.0  2.576211e+05  2.576211e+05  \n",
      "std    1.365577e+06        0.0  1.365577e+06  1.365577e+06  \n",
      "min    0.000000e+00        0.0  0.000000e+00  0.000000e+00  \n",
      "25%    0.000000e+00        0.0  0.000000e+00  0.000000e+00  \n",
      "50%    0.000000e+00        0.0  0.000000e+00  0.000000e+00  \n",
      "75%    0.000000e+00        0.0  0.000000e+00  0.000000e+00  \n",
      "max    9.996903e+06        0.0  9.996903e+06  9.996903e+06  \n",
      "['Source IP', ' Source Port', ' Destination IP', ' Destination Port', ' Protocol', ' Flow Duration', ' Flow Bytes/s', ' Flow Packets/s', ' Flow IAT Mean', ' Flow IAT Std', ' Flow IAT Max', ' Flow IAT Min', 'Fwd IAT Mean', ' Fwd IAT Std', ' Fwd IAT Max', ' Fwd IAT Min', 'Bwd IAT Mean', ' Bwd IAT Std', ' Bwd IAT Max', ' Bwd IAT Min', 'Active Mean', ' Active Std', ' Active Max', ' Active Min', 'Idle Mean', ' Idle Std', ' Idle Max', ' Idle Min', 'label']\n"
     ]
    }
   ],
   "source": [
    "print(dataframe.shape)\n",
    "dataframe = dataframe.reindex(np.random.permutation(dataframe.index)).copy()\n",
    "print(dataframe.describe())\n",
    "print(list(dataframe))"
   ]
  },
  {
   "cell_type": "code",
   "execution_count": 205,
   "id": "1197cd4f",
   "metadata": {},
   "outputs": [
    {
     "name": "stdout",
     "output_type": "stream",
     "text": [
      "        Protocol   Flow Duration   Flow Bytes/s   Flow Packets/s  \\\n",
      "count    16088.0    16088.000000   16088.000000     16088.000000   \n",
      "mean         0.0        0.442243       0.000295         0.000620   \n",
      "std          0.0        0.465090       0.012537         0.017354   \n",
      "min          0.0        0.000000       0.000000         0.000000   \n",
      "25%          0.0        0.003711       0.000000         0.000000   \n",
      "50%          0.0        0.077809       0.000000         0.000000   \n",
      "75%          0.0        0.996548       0.000000         0.000000   \n",
      "max          0.0        1.000000       1.000000         1.000000   \n",
      "\n",
      "        Flow IAT Mean   Flow IAT Std   Flow IAT Max   Flow IAT Min  \\\n",
      "count    16088.000000        16088.0   16088.000000   16088.000000   \n",
      "mean         0.014998            0.0       0.081417       0.007002   \n",
      "std          0.062858            0.0       0.177617       0.042685   \n",
      "min          0.000000            0.0       0.000000       0.000000   \n",
      "25%          0.000000            0.0       0.003708       0.000228   \n",
      "50%          0.000013            0.0       0.010545       0.000233   \n",
      "75%          0.003968            0.0       0.038336       0.003619   \n",
      "max          1.000000            0.0       1.000000       1.000000   \n",
      "\n",
      "       Fwd IAT Mean   Fwd IAT Std  ...   Bwd IAT Max   Bwd IAT Min  \\\n",
      "count  16088.000000       16088.0  ...  1.608800e+04  16088.000000   \n",
      "mean       0.017046           0.0  ...  5.995891e-02      0.005802   \n",
      "std        0.079810           0.0  ...  1.525777e-01      0.058134   \n",
      "min        0.000000           0.0  ...  0.000000e+00      0.000000   \n",
      "25%        0.000000           0.0  ...  0.000000e+00      0.000033   \n",
      "50%        0.000000           0.0  ...  7.002169e-07      0.000033   \n",
      "75%        0.000000           0.0  ...  2.401574e-02      0.000035   \n",
      "max        1.000000           0.0  ...  1.000000e+00      1.000000   \n",
      "\n",
      "        Active Mean   Active Std    Active Max    Active Min    Idle Mean  \\\n",
      "count  16088.000000      16088.0  16088.000000  16088.000000  16088.00000   \n",
      "mean       0.005490          0.0      0.005490      0.005490      0.02577   \n",
      "std        0.049841          0.0      0.049841      0.049841      0.13660   \n",
      "min        0.000000          0.0      0.000000      0.000000      0.00000   \n",
      "25%        0.000000          0.0      0.000000      0.000000      0.00000   \n",
      "50%        0.000000          0.0      0.000000      0.000000      0.00000   \n",
      "75%        0.000000          0.0      0.000000      0.000000      0.00000   \n",
      "max        1.000000          0.0      1.000000      1.000000      1.00000   \n",
      "\n",
      "        Idle Std     Idle Max     Idle Min  \n",
      "count    16088.0  16088.00000  16088.00000  \n",
      "mean         0.0      0.02577      0.02577  \n",
      "std          0.0      0.13660      0.13660  \n",
      "min          0.0      0.00000      0.00000  \n",
      "25%          0.0      0.00000      0.00000  \n",
      "50%          0.0      0.00000      0.00000  \n",
      "75%          0.0      0.00000      0.00000  \n",
      "max          0.0      1.00000      1.00000  \n",
      "\n",
      "[8 rows x 24 columns]\n"
     ]
    }
   ],
   "source": [
    "keys = dataframe.keys()\n",
    "data_to_process = dataframe[keys[4:len(keys) - 1]].copy()\n",
    "x_normalised = dfNormalize(data_to_process)\n",
    "print(x_normalised.describe())"
   ]
  },
  {
   "cell_type": "code",
   "execution_count": 206,
   "id": "86a832ea",
   "metadata": {},
   "outputs": [],
   "source": [
    "change_labels = lambda x: 1 if x == 'nonTOR' else 0\n",
    "y_normalised = dataframe['label'].apply(change_labels)\n",
    "\n",
    "X_train, X_test, y_train, y_test = train_test_split(x_normalised, y_normalised, test_size = 0.20)"
   ]
  },
  {
   "cell_type": "code",
   "execution_count": 207,
   "id": "4eec3c71",
   "metadata": {},
   "outputs": [],
   "source": [
    "# Build the LSTM model\n",
    "model = Sequential()\n",
    "model.add(LSTM(128,activation='relu',input_shape=(x_normalised.shape[1],1)))\n",
    "model.add(Dropout(0.2))\n",
    "model.add(Dense(1, activation='sigmoid'))\n",
    "model.compile(loss='binary_crossentropy', optimizer='adam', metrics=['accuracy'])"
   ]
  },
  {
   "cell_type": "code",
   "execution_count": 208,
   "id": "1da91f07",
   "metadata": {},
   "outputs": [],
   "source": [
    "X_train = X_train.values.reshape(X_train.shape[0], X_train.shape[1], 1)\n",
    "X_test = X_test.values.reshape(X_test.shape[0], X_test.shape[1], 1)"
   ]
  },
  {
   "cell_type": "code",
   "execution_count": 209,
   "id": "22481530",
   "metadata": {
    "scrolled": true
   },
   "outputs": [
    {
     "name": "stdout",
     "output_type": "stream",
     "text": [
      "Epoch 1/20\n",
      "403/403 [==============================] - 9s 19ms/step - loss: 0.3377 - accuracy: 0.8877 - val_loss: 0.1945 - val_accuracy: 0.9223\n",
      "Epoch 2/20\n",
      "403/403 [==============================] - 7s 18ms/step - loss: 0.3431 - accuracy: 0.8954 - val_loss: 0.2311 - val_accuracy: 0.9236\n",
      "Epoch 3/20\n",
      "403/403 [==============================] - 7s 18ms/step - loss: 0.2165 - accuracy: 0.9228 - val_loss: 0.1746 - val_accuracy: 0.9245\n",
      "Epoch 4/20\n",
      "403/403 [==============================] - 7s 17ms/step - loss: 0.1884 - accuracy: 0.9300 - val_loss: 0.1562 - val_accuracy: 0.9434\n",
      "Epoch 5/20\n",
      "403/403 [==============================] - 7s 17ms/step - loss: 0.1621 - accuracy: 0.9477 - val_loss: 0.1407 - val_accuracy: 0.9528\n",
      "Epoch 6/20\n",
      "403/403 [==============================] - 7s 18ms/step - loss: 0.1459 - accuracy: 0.9544 - val_loss: 0.1476 - val_accuracy: 0.9553\n",
      "Epoch 7/20\n",
      "403/403 [==============================] - 7s 18ms/step - loss: 0.1472 - accuracy: 0.9545 - val_loss: 0.1241 - val_accuracy: 0.9652\n",
      "Epoch 8/20\n",
      "403/403 [==============================] - 7s 18ms/step - loss: 0.1438 - accuracy: 0.9551 - val_loss: 0.2248 - val_accuracy: 0.9326\n",
      "Epoch 9/20\n",
      "403/403 [==============================] - 7s 18ms/step - loss: 0.1716 - accuracy: 0.9459 - val_loss: 0.1270 - val_accuracy: 0.9584\n",
      "Epoch 10/20\n",
      "403/403 [==============================] - 7s 18ms/step - loss: 0.1349 - accuracy: 0.9597 - val_loss: 0.1382 - val_accuracy: 0.9584\n",
      "Epoch 11/20\n",
      "403/403 [==============================] - 7s 17ms/step - loss: 0.1496 - accuracy: 0.9540 - val_loss: 0.1829 - val_accuracy: 0.9419\n",
      "Epoch 12/20\n",
      "403/403 [==============================] - 7s 17ms/step - loss: 0.1608 - accuracy: 0.9492 - val_loss: 0.1921 - val_accuracy: 0.9493\n",
      "Epoch 13/20\n",
      "403/403 [==============================] - 7s 17ms/step - loss: 0.1432 - accuracy: 0.9542 - val_loss: 0.1297 - val_accuracy: 0.9615\n",
      "Epoch 14/20\n",
      "403/403 [==============================] - 7s 17ms/step - loss: 0.1163 - accuracy: 0.9662 - val_loss: 0.1133 - val_accuracy: 0.9618\n",
      "Epoch 15/20\n",
      "403/403 [==============================] - 7s 17ms/step - loss: 0.1268 - accuracy: 0.9618 - val_loss: 0.1053 - val_accuracy: 0.9705\n",
      "Epoch 16/20\n",
      "403/403 [==============================] - 7s 17ms/step - loss: 0.1065 - accuracy: 0.9698 - val_loss: 0.1073 - val_accuracy: 0.9677\n",
      "Epoch 17/20\n",
      "403/403 [==============================] - 7s 17ms/step - loss: 0.1085 - accuracy: 0.9695 - val_loss: 0.1150 - val_accuracy: 0.9643\n",
      "Epoch 18/20\n",
      "403/403 [==============================] - 7s 17ms/step - loss: 0.1111 - accuracy: 0.9701 - val_loss: 0.1445 - val_accuracy: 0.9559\n",
      "Epoch 19/20\n",
      "403/403 [==============================] - 7s 17ms/step - loss: 0.1336 - accuracy: 0.9649 - val_loss: 0.0919 - val_accuracy: 0.9755\n",
      "Epoch 20/20\n",
      "403/403 [==============================] - 7s 18ms/step - loss: 0.1050 - accuracy: 0.9721 - val_loss: 0.1061 - val_accuracy: 0.9736\n"
     ]
    },
    {
     "data": {
      "text/plain": [
       "<keras.callbacks.History at 0x2bb8160d5b0>"
      ]
     },
     "execution_count": 209,
     "metadata": {},
     "output_type": "execute_result"
    }
   ],
   "source": [
    "# Fit the model\n",
    "model.fit(X_train, y_train, validation_data=(X_test, y_test), epochs=20,batch_size=32)"
   ]
  },
  {
   "cell_type": "code",
   "execution_count": 212,
   "id": "354349a0",
   "metadata": {},
   "outputs": [
    {
     "name": "stdout",
     "output_type": "stream",
     "text": [
      "Test accuracy: 0.9735860824584961\n"
     ]
    }
   ],
   "source": [
    "# Evaluate the model\n",
    "score = model.evaluate(X_test, y_test, verbose=0)\n",
    "#print('Test loss:', score[0])\n",
    "print('Test accuracy:', score[1])"
   ]
  }
 ],
 "metadata": {
  "kernelspec": {
   "display_name": "Python 3 (ipykernel)",
   "language": "python",
   "name": "python3"
  },
  "language_info": {
   "codemirror_mode": {
    "name": "ipython",
    "version": 3
   },
   "file_extension": ".py",
   "mimetype": "text/x-python",
   "name": "python",
   "nbconvert_exporter": "python",
   "pygments_lexer": "ipython3",
   "version": "3.9.13"
  }
 },
 "nbformat": 4,
 "nbformat_minor": 5
}
