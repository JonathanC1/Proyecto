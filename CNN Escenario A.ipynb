{
 "cells": [
  {
   "cell_type": "code",
   "execution_count": 12,
   "id": "954fd5eb",
   "metadata": {},
   "outputs": [],
   "source": [
    "import pandas as pd\n",
    "import numpy as np\n",
    "from sklearn.model_selection import train_test_split\n",
    "from sklearn.preprocessing import StandardScaler\n",
    "from sklearn.neighbors import KNeighborsClassifier\n",
    "from sklearn.metrics import classification_report, confusion_matrix"
   ]
  },
  {
   "cell_type": "code",
   "execution_count": 13,
   "id": "b87b36cf",
   "metadata": {},
   "outputs": [],
   "source": [
    "datapath = 'https://raw.githubusercontent.com/JonathanC1/Datasets/master/TorNonTor/SelectedFeatures-10s-TOR-NonTOR.csv'\n",
    "dataframe = pd.read_csv(datapath,low_memory=False)"
   ]
  },
  {
   "cell_type": "code",
   "execution_count": 14,
   "id": "7b70a10c",
   "metadata": {},
   "outputs": [],
   "source": [
    "def dfNormalize(df):\n",
    "    for feature_name in df.columns:\n",
    "        df.loc[:,feature_name]= pd.to_numeric(df.loc[:,feature_name], errors='coerce').fillna(0)\n",
    "        max_value = df[feature_name].max()\n",
    "        min_value = df[feature_name].min()   \n",
    "        if (max_value - min_value) > 0:\n",
    "            df.loc[:,feature_name] = (df.loc[:,feature_name] - min_value) / (max_value - min_value)\n",
    "        else:\n",
    "            df.loc[:,feature_name] = (df.loc[:,feature_name]- min_value)    \n",
    "    return df"
   ]
  },
  {
   "cell_type": "code",
   "execution_count": 15,
   "id": "9794f210",
   "metadata": {},
   "outputs": [
    {
     "name": "stdout",
     "output_type": "stream",
     "text": [
      "(16088, 29)\n",
      "        Source Port   Destination Port   Protocol   Flow Duration  \\\n",
      "count  16088.000000       16088.000000    16088.0    1.608800e+04   \n",
      "mean   36296.304388       11777.729426        6.0    4.422426e+06   \n",
      "std    21217.827170       19907.298714        0.0    4.650899e+06   \n",
      "min       21.000000          21.000000        6.0    1.000000e+00   \n",
      "25%    33224.000000         443.000000        6.0    3.710925e+04   \n",
      "50%    41282.000000         443.000000        6.0    7.780915e+05   \n",
      "75%    54420.000000        9001.000000        6.0    9.965477e+06   \n",
      "max    65087.000000       65514.000000        6.0    1.000000e+07   \n",
      "\n",
      "        Flow IAT Max   Flow IAT Min   Fwd IAT Max   Fwd IAT Min   Bwd IAT Max  \\\n",
      "count   1.608800e+04   1.608800e+04  1.608800e+04  1.608800e+04  1.608800e+04   \n",
      "mean    8.139237e+05   6.711377e+04  7.562887e+05  8.203885e+04  5.994034e+05   \n",
      "std     1.775624e+06   4.228532e+05  1.745859e+06  6.422426e+05  1.525304e+06   \n",
      "min     1.000000e+00  -2.255000e+03  0.000000e+00 -3.160000e+02  0.000000e+00   \n",
      "25%     3.706550e+04   7.000000e+00  0.000000e+00  0.000000e+00  0.000000e+00   \n",
      "50%     1.054225e+05   5.200000e+01  6.991700e+04  0.000000e+00  7.000000e+00   \n",
      "75%     3.832422e+05   3.359300e+04  3.658805e+05  5.800000e+01  2.400830e+05   \n",
      "max     9.996903e+06   9.904104e+06  9.997140e+06  9.997140e+06  9.996903e+06   \n",
      "\n",
      "        Bwd IAT Min   Active Mean   Active Std    Active Max    Active Min  \\\n",
      "count  1.608800e+04  1.608800e+04      16088.0  1.608800e+04  1.608800e+04   \n",
      "mean   5.767559e+04  2.648196e+04          0.0  2.648196e+04  2.648196e+04   \n",
      "std    5.811799e+05  2.404183e+05          0.0  2.404183e+05  2.404183e+05   \n",
      "min   -3.270000e+02  0.000000e+00          0.0  0.000000e+00  0.000000e+00   \n",
      "25%    0.000000e+00  0.000000e+00          0.0  0.000000e+00  0.000000e+00   \n",
      "50%    0.000000e+00  0.000000e+00          0.0  0.000000e+00  0.000000e+00   \n",
      "75%    2.600000e+01  0.000000e+00          0.0  0.000000e+00  0.000000e+00   \n",
      "max    9.996903e+06  4.823748e+06          0.0  4.823748e+06  4.823748e+06   \n",
      "\n",
      "          Idle Mean   Idle Std      Idle Max      Idle Min  \n",
      "count  1.608800e+04    16088.0  1.608800e+04  1.608800e+04  \n",
      "mean   2.576211e+05        0.0  2.576211e+05  2.576211e+05  \n",
      "std    1.365577e+06        0.0  1.365577e+06  1.365577e+06  \n",
      "min    0.000000e+00        0.0  0.000000e+00  0.000000e+00  \n",
      "25%    0.000000e+00        0.0  0.000000e+00  0.000000e+00  \n",
      "50%    0.000000e+00        0.0  0.000000e+00  0.000000e+00  \n",
      "75%    0.000000e+00        0.0  0.000000e+00  0.000000e+00  \n",
      "max    9.996903e+06        0.0  9.996903e+06  9.996903e+06  \n",
      "['Source IP', ' Source Port', ' Destination IP', ' Destination Port', ' Protocol', ' Flow Duration', ' Flow Bytes/s', ' Flow Packets/s', ' Flow IAT Mean', ' Flow IAT Std', ' Flow IAT Max', ' Flow IAT Min', 'Fwd IAT Mean', ' Fwd IAT Std', ' Fwd IAT Max', ' Fwd IAT Min', 'Bwd IAT Mean', ' Bwd IAT Std', ' Bwd IAT Max', ' Bwd IAT Min', 'Active Mean', ' Active Std', ' Active Max', ' Active Min', 'Idle Mean', ' Idle Std', ' Idle Max', ' Idle Min', 'label']\n"
     ]
    }
   ],
   "source": [
    "print(dataframe.shape)\n",
    "dataframe = dataframe.reindex(np.random.permutation(dataframe.index)).copy()\n",
    "print(dataframe.describe())\n",
    "print(list(dataframe))"
   ]
  },
  {
   "cell_type": "code",
   "execution_count": 16,
   "id": "7b6b2eaa",
   "metadata": {},
   "outputs": [
    {
     "name": "stdout",
     "output_type": "stream",
     "text": [
      "        Protocol   Flow Duration   Flow Bytes/s   Flow Packets/s  \\\n",
      "count    16088.0    16088.000000   16088.000000     16088.000000   \n",
      "mean         0.0        0.442243       0.000295         0.000620   \n",
      "std          0.0        0.465090       0.012537         0.017354   \n",
      "min          0.0        0.000000       0.000000         0.000000   \n",
      "25%          0.0        0.003711       0.000000         0.000000   \n",
      "50%          0.0        0.077809       0.000000         0.000000   \n",
      "75%          0.0        0.996548       0.000000         0.000000   \n",
      "max          0.0        1.000000       1.000000         1.000000   \n",
      "\n",
      "        Flow IAT Mean   Flow IAT Std   Flow IAT Max   Flow IAT Min  \\\n",
      "count    16088.000000        16088.0   16088.000000   16088.000000   \n",
      "mean         0.014998            0.0       0.081417       0.007002   \n",
      "std          0.062858            0.0       0.177617       0.042685   \n",
      "min          0.000000            0.0       0.000000       0.000000   \n",
      "25%          0.000000            0.0       0.003708       0.000228   \n",
      "50%          0.000013            0.0       0.010545       0.000233   \n",
      "75%          0.003968            0.0       0.038336       0.003619   \n",
      "max          1.000000            0.0       1.000000       1.000000   \n",
      "\n",
      "       Fwd IAT Mean   Fwd IAT Std  ...   Bwd IAT Max   Bwd IAT Min  \\\n",
      "count  16088.000000       16088.0  ...  1.608800e+04  16088.000000   \n",
      "mean       0.017046           0.0  ...  5.995891e-02      0.005802   \n",
      "std        0.079810           0.0  ...  1.525777e-01      0.058134   \n",
      "min        0.000000           0.0  ...  0.000000e+00      0.000000   \n",
      "25%        0.000000           0.0  ...  0.000000e+00      0.000033   \n",
      "50%        0.000000           0.0  ...  7.002169e-07      0.000033   \n",
      "75%        0.000000           0.0  ...  2.401574e-02      0.000035   \n",
      "max        1.000000           0.0  ...  1.000000e+00      1.000000   \n",
      "\n",
      "        Active Mean   Active Std    Active Max    Active Min    Idle Mean  \\\n",
      "count  16088.000000      16088.0  16088.000000  16088.000000  16088.00000   \n",
      "mean       0.005490          0.0      0.005490      0.005490      0.02577   \n",
      "std        0.049841          0.0      0.049841      0.049841      0.13660   \n",
      "min        0.000000          0.0      0.000000      0.000000      0.00000   \n",
      "25%        0.000000          0.0      0.000000      0.000000      0.00000   \n",
      "50%        0.000000          0.0      0.000000      0.000000      0.00000   \n",
      "75%        0.000000          0.0      0.000000      0.000000      0.00000   \n",
      "max        1.000000          0.0      1.000000      1.000000      1.00000   \n",
      "\n",
      "        Idle Std     Idle Max     Idle Min  \n",
      "count    16088.0  16088.00000  16088.00000  \n",
      "mean         0.0      0.02577      0.02577  \n",
      "std          0.0      0.13660      0.13660  \n",
      "min          0.0      0.00000      0.00000  \n",
      "25%          0.0      0.00000      0.00000  \n",
      "50%          0.0      0.00000      0.00000  \n",
      "75%          0.0      0.00000      0.00000  \n",
      "max          0.0      1.00000      1.00000  \n",
      "\n",
      "[8 rows x 24 columns]\n"
     ]
    }
   ],
   "source": [
    "keys = dataframe.keys()\n",
    "data_to_process = dataframe[keys[4:len(keys) - 1]].copy()\n",
    "x_normalised = dfNormalize(data_to_process)\n",
    "print(x_normalised.describe())"
   ]
  },
  {
   "cell_type": "code",
   "execution_count": 21,
   "id": "e1fe5f83",
   "metadata": {},
   "outputs": [],
   "source": [
    "change_labels = lambda x: 1 if x == 'nonTOR' else 0\n",
    "y_normalised = dataframe['label'].apply(change_labels)\n",
    "\n",
    "X_train, X_test, y_train, y_test = train_test_split(x_normalised, y_normalised, test_size = 0.20)"
   ]
  },
  {
   "cell_type": "code",
   "execution_count": 22,
   "id": "047d4c69",
   "metadata": {},
   "outputs": [],
   "source": [
    "scaler = StandardScaler()\n",
    "scaler.fit(X_train)\n",
    "\n",
    "X_train = scaler.transform(X_train)\n",
    "X_test = scaler.transform(X_test)"
   ]
  },
  {
   "cell_type": "code",
   "execution_count": 23,
   "id": "501e6560",
   "metadata": {
    "scrolled": true
   },
   "outputs": [
    {
     "data": {
      "text/plain": [
       "KNeighborsClassifier()"
      ]
     },
     "execution_count": 23,
     "metadata": {},
     "output_type": "execute_result"
    }
   ],
   "source": [
    "classifier = KNeighborsClassifier(n_neighbors=5)\n",
    "classifier.fit(X_train, y_train)"
   ]
  },
  {
   "cell_type": "code",
   "execution_count": 25,
   "id": "474c1dc8",
   "metadata": {},
   "outputs": [
    {
     "name": "stderr",
     "output_type": "stream",
     "text": [
      "C:\\Users\\ELEN\\anaconda3\\lib\\site-packages\\sklearn\\neighbors\\_classification.py:228: FutureWarning: Unlike other reduction functions (e.g. `skew`, `kurtosis`), the default behavior of `mode` typically preserves the axis it acts along. In SciPy 1.11.0, this behavior will change: the default value of `keepdims` will become False, the `axis` over which the statistic is taken will be eliminated, and the value None will no longer be accepted. Set `keepdims` to True or False to avoid this warning.\n",
      "  mode, _ = stats.mode(_y[neigh_ind, k], axis=1)\n"
     ]
    },
    {
     "name": "stdout",
     "output_type": "stream",
     "text": [
      "              precision    recall  f1-score   support\n",
      "\n",
      "      NonTor       0.99      0.98      0.98      1576\n",
      "         Tor       0.98      0.99      0.99      1642\n",
      "\n",
      "    accuracy                           0.99      3218\n",
      "   macro avg       0.99      0.99      0.99      3218\n",
      "weighted avg       0.99      0.99      0.99      3218\n",
      "\n",
      "Accuracy = 98.54\n"
     ]
    },
    {
     "name": "stderr",
     "output_type": "stream",
     "text": [
      "C:\\Users\\ELEN\\anaconda3\\lib\\site-packages\\sklearn\\neighbors\\_classification.py:228: FutureWarning: Unlike other reduction functions (e.g. `skew`, `kurtosis`), the default behavior of `mode` typically preserves the axis it acts along. In SciPy 1.11.0, this behavior will change: the default value of `keepdims` will become False, the `axis` over which the statistic is taken will be eliminated, and the value None will no longer be accepted. Set `keepdims` to True or False to avoid this warning.\n",
      "  mode, _ = stats.mode(_y[neigh_ind, k], axis=1)\n"
     ]
    }
   ],
   "source": [
    "y_pred = classifier.predict(X_test)\n",
    "target_names = ['NonTor', 'Tor']\n",
    "#print(confusion_matrix(y_test, y_pred))\n",
    "print(classification_report(y_test, y_pred,target_names=target_names))\n",
    "print(\"Accuracy = {:.2f}\".format(classifier.score(X_test, y_test.values)*100))"
   ]
  },
  {
   "cell_type": "code",
   "execution_count": null,
   "id": "9af8383b",
   "metadata": {},
   "outputs": [],
   "source": []
  }
 ],
 "metadata": {
  "kernelspec": {
   "display_name": "Python 3 (ipykernel)",
   "language": "python",
   "name": "python3"
  },
  "language_info": {
   "codemirror_mode": {
    "name": "ipython",
    "version": 3
   },
   "file_extension": ".py",
   "mimetype": "text/x-python",
   "name": "python",
   "nbconvert_exporter": "python",
   "pygments_lexer": "ipython3",
   "version": "3.9.13"
  }
 },
 "nbformat": 4,
 "nbformat_minor": 5
}
